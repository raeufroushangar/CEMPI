{
 "cells": [
  {
   "cell_type": "code",
   "execution_count": null,
   "metadata": {},
   "outputs": [],
   "source": [
    "from src.data_processor import process_mutation_data\n",
    "from src.result_writer import write_processed_data\n",
    "\n",
    "mutation_file_path = '/home/raeuf/projects/testing_code/venv/mutations_data_testing.csv'\n",
    "seq_length = 100\n",
    "output_dir = '/home/raeuf/projects/testing_code/venv'\n",
    "\n",
    "try:\n",
    "    # Process mutation data\n",
    "    positional_weights_0_data, positional_weights_15_data, combined_data_csv = process_mutation_data(mutation_file_path, seq_length)\n",
    "\n",
    "    # Write processed data to CSV files if processing was successful\n",
    "    if positional_weights_0_data is not None and positional_weights_15_data is not None and combined_data_csv is not None:\n",
    "        write_processed_data(output_dir, positional_weights_0_data, positional_weights_15_data, combined_data_csv)\n",
    "except ValueError as e:\n",
    "    print(e)\n"
   ]
  }
 ],
 "metadata": {
  "kernelspec": {
   "display_name": "Python 3",
   "language": "python",
   "name": "python3"
  },
  "language_info": {
   "codemirror_mode": {
    "name": "ipython",
    "version": 3
   },
   "file_extension": ".py",
   "mimetype": "text/x-python",
   "name": "python",
   "nbconvert_exporter": "python",
   "pygments_lexer": "ipython3",
   "version": "3.12.3"
  }
 },
 "nbformat": 4,
 "nbformat_minor": 2
}
